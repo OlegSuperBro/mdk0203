{
 "cells": [
  {
   "cell_type": "markdown",
   "metadata": {},
   "source": [
    "Необходимые библиотеки"
   ]
  },
  {
   "cell_type": "code",
   "execution_count": 1,
   "metadata": {},
   "outputs": [],
   "source": [
    "import numpy as np\n",
    "from typing import List"
   ]
  },
  {
   "cell_type": "markdown",
   "metadata": {},
   "source": [
    "# Задание 1"
   ]
  },
  {
   "cell_type": "markdown",
   "metadata": {},
   "source": [
    "## Объявление функции"
   ]
  },
  {
   "cell_type": "code",
   "execution_count": 3,
   "metadata": {},
   "outputs": [],
   "source": [
    "def fft(nums: List[int]):\n",
    "    nums_length = len(nums)\n",
    "    k = np.arange(nums_length)\n",
    "    m = k.reshape((nums_length, 1))\n",
    "    w = np.exp(-2j * np.pi * m * k / nums_length)\n",
    "    return np.dot(w, nums)"
   ]
  },
  {
   "cell_type": "markdown",
   "metadata": {},
   "source": [
    "## Проверка функции"
   ]
  },
  {
   "cell_type": "code",
   "execution_count": 4,
   "metadata": {},
   "outputs": [
    {
     "name": "stdout",
     "output_type": "stream",
     "text": [
      "20.9 μs ± 289 ns per loop (mean ± std. dev. of 7 runs, 10,000 loops each)\n",
      "37.8 ms ± 2.73 ms per loop (mean ± std. dev. of 7 runs, 10 loops each)\n"
     ]
    }
   ],
   "source": [
    "ELEMENT_COUNT = 1000\n",
    "\n",
    "VALUE = np.random.rand(ELEMENT_COUNT)\n",
    "\n",
    "%timeit np.fft.fft(VALUE)\n",
    "%timeit fft(VALUE)\n",
    "\n",
    "assert np.allclose(np.fft.fft(VALUE), fft(VALUE)), \"Results are different\""
   ]
  }
 ],
 "metadata": {
  "kernelspec": {
   "display_name": ".venv",
   "language": "python",
   "name": "python3"
  },
  "language_info": {
   "codemirror_mode": {
    "name": "ipython",
    "version": 3
   },
   "file_extension": ".py",
   "mimetype": "text/x-python",
   "name": "python",
   "nbconvert_exporter": "python",
   "pygments_lexer": "ipython3",
   "version": "3.12.7"
  }
 },
 "nbformat": 4,
 "nbformat_minor": 2
}
