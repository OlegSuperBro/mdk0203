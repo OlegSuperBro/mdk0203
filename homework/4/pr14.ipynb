{
 "cells": [
  {
   "cell_type": "code",
   "execution_count": 7,
   "metadata": {},
   "outputs": [
    {
     "name": "stdout",
     "output_type": "stream",
     "text": [
      "240.85576659959756\n"
     ]
    }
   ],
   "source": [
    "PLANCK_CONSTANT = 6.626e-34\n",
    "SPEED_OF_LIGHT = 3.0e8\n",
    "AVOGADRO_CONSTANT = 6.022e23\n",
    "\n",
    "def get_wv(d0):\n",
    "    molecule_energy = (d0 * 1e3) / AVOGADRO_CONSTANT\n",
    "    wavelength_m = PLANCK_CONSTANT * SPEED_OF_LIGHT / molecule_energy\n",
    "    return wavelength_m * 1e9\n",
    "\n",
    "print(get_wv(497))\n"
   ]
  }
 ],
 "metadata": {
  "kernelspec": {
   "display_name": ".venv",
   "language": "python",
   "name": "python3"
  },
  "language_info": {
   "codemirror_mode": {
    "name": "ipython",
    "version": 3
   },
   "file_extension": ".py",
   "mimetype": "text/x-python",
   "name": "python",
   "nbconvert_exporter": "python",
   "pygments_lexer": "ipython3",
   "version": "3.12.7"
  }
 },
 "nbformat": 4,
 "nbformat_minor": 2
}
