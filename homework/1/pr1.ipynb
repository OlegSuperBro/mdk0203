{
 "cells": [
  {
   "cell_type": "markdown",
   "metadata": {},
   "source": [
    "Необходимые библиотеки"
   ]
  },
  {
   "cell_type": "code",
   "execution_count": null,
   "metadata": {},
   "outputs": [],
   "source": [
    "import math\n",
    "import re\n",
    "from typing import List, TypedDict"
   ]
  },
  {
   "cell_type": "markdown",
   "metadata": {},
   "source": [
    "# Задание 1"
   ]
  },
  {
   "cell_type": "code",
   "execution_count": 2,
   "metadata": {},
   "outputs": [
    {
     "name": "stdout",
     "output_type": "stream",
     "text": [
      "[0.0, 0.25, 1.0, 0.5, 0.75, 0.25]\n"
     ]
    }
   ],
   "source": [
    "def normalize_number_array(array: List[int | float]) -> List[float]:\n",
    "    min_num = min(array)\n",
    "    max_num = max(array)\n",
    "\n",
    "    return [(num - min_num) / (max_num - min_num) for num in array]\n",
    "\n",
    "arr = [2, 4, 10, 6, 8, 4]\n",
    "\n",
    "print(normalize_number_array(arr))"
   ]
  },
  {
   "cell_type": "markdown",
   "metadata": {},
   "source": [
    "# Задание 2"
   ]
  },
  {
   "cell_type": "code",
   "execution_count": 7,
   "metadata": {},
   "outputs": [
    {
     "name": "stdout",
     "output_type": "stream",
     "text": [
      "Константа Гаусса G = 0.8346268416740731\n"
     ]
    }
   ],
   "source": [
    "def ags(a: int, b: int) -> tuple[int, int]:\n",
    "    return 1 / 2 * (a + b), math.sqrt(a * b)\n",
    "\n",
    "def agm(x: int, y: int) -> int:\n",
    "    x, y = ags(x, y)\n",
    "    while x != y:\n",
    "        x, y = ags(x, y)\n",
    "    return x\n",
    "\n",
    "G = 1 / agm(1, math.sqrt(2))\n",
    "\n",
    "print(\"Константа Гаусса G =\", G)\n"
   ]
  },
  {
   "cell_type": "markdown",
   "metadata": {},
   "source": [
    "# Задание 3"
   ]
  },
  {
   "cell_type": "code",
   "execution_count": null,
   "metadata": {},
   "outputs": [],
   "source": [
    "def fizzbuzz(n: int) -> str:\n",
    "    line = \"\"\n",
    "    if n % 3 == 0:\n",
    "        line += \"Fizz\"\n",
    "    if n % 5 == 0:\n",
    "        line += \"Buzz\"\n",
    "    \n",
    "    return line\n",
    "\n",
    "for i in range(1, 101):\n",
    "    print(i, fizzbuzz(i))"
   ]
  },
  {
   "cell_type": "markdown",
   "metadata": {},
   "source": [
    "# Задание 4"
   ]
  },
  {
   "cell_type": "code",
   "execution_count": 19,
   "metadata": {},
   "outputs": [
    {
     "name": "stdout",
     "output_type": "stream",
     "text": [
      "H3C-CH2-CH2-CH2-CH2-CH2-CH2-CH3\n"
     ]
    }
   ],
   "source": [
    "class ParsedFormula(TypedDict):\n",
    "    C: int\n",
    "    H: int\n",
    "\n",
    "\n",
    "def sane_check(data: ParsedFormula):\n",
    "    nC = data[\"C\"]\n",
    "    if nC <= 1:\n",
    "        return False\n",
    "    nH = data[\"H\"]\n",
    "    return (nH - 2) / 2 == nC\n",
    "\n",
    "\n",
    "def parse_formula(formula: str) -> ParsedFormula:\n",
    "    nC, nH = re.findall(r\"\\d+\", formula)\n",
    "    return {\n",
    "        \"C\": int(nC),\n",
    "        \"H\": int(nH)\n",
    "    }\n",
    "\n",
    "\n",
    "def formula2str(data: ParsedFormula) -> str:\n",
    "    line = \"\"\n",
    "\n",
    "    nC = data[\"C\"]\n",
    "    nH = data[\"H\"]\n",
    "\n",
    "    line += \"H3C\"\n",
    "\n",
    "    for _ in range((nH - 6) // 2):\n",
    "        line += \"-CH2\"\n",
    "    \n",
    "    line += \"-CH3\"\n",
    "\n",
    "    return line\n",
    "\n",
    "FORMULA = \"C8H18\"\n",
    "\n",
    "\n",
    "parsed_formula = parse_formula(FORMULA)\n",
    "assert sane_check(parsed_formula), \"Формула не описывается общей формулой\"\n",
    "\n",
    "print(formula2str(parsed_formula))\n",
    "\n"
   ]
  }
 ],
 "metadata": {
  "kernelspec": {
   "display_name": ".venv",
   "language": "python",
   "name": "python3"
  },
  "language_info": {
   "codemirror_mode": {
    "name": "ipython",
    "version": 3
   },
   "file_extension": ".py",
   "mimetype": "text/x-python",
   "name": "python",
   "nbconvert_exporter": "python",
   "pygments_lexer": "ipython3",
   "version": "3.12.7"
  }
 },
 "nbformat": 4,
 "nbformat_minor": 2
}
