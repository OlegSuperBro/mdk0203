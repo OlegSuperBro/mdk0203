{
 "cells": [
  {
   "cell_type": "code",
   "execution_count": 3,
   "metadata": {},
   "outputs": [],
   "source": [
    "import time\n",
    "import math\n",
    "from pathlib import Path\n",
    "from typing import Generator"
   ]
  },
  {
   "cell_type": "markdown",
   "metadata": {},
   "source": [
    "# Задание 3.0"
   ]
  },
  {
   "cell_type": "markdown",
   "metadata": {},
   "source": [
    "### Определение функции для генерации чисел-градин"
   ]
  },
  {
   "cell_type": "code",
   "execution_count": 11,
   "metadata": {},
   "outputs": [],
   "source": [
    "def hailstone_sequence(n: int = 1) -> Generator[int, None, 1]:\n",
    "    while n > 1:\n",
    "        if n % 2 == 0:\n",
    "            n = n // 2\n",
    "        else:\n",
    "            n = 3 * n + 1\n",
    "\n",
    "        yield n\n",
    "    return n"
   ]
  },
  {
   "cell_type": "markdown",
   "metadata": {},
   "source": [
    "### Подзадание A"
   ]
  },
  {
   "cell_type": "code",
   "execution_count": 8,
   "metadata": {},
   "outputs": [
    {
     "name": "stdout",
     "output_type": "stream",
     "text": [
      "82,41,124,62,31,94,47,142,71,214,107,322,161,484,242,121,364,182,91,274,137,412,206,103,310,155,466,233,700,350,175,526,263,790,395,1186,593,1780,890,445,1336,668,334,167,502,251,754,377,1132,566,283,850,425,1276,638,319,958,479,1438,719,2158,1079,3238,1619,4858,2429,7288,3644,1822,911,2734,1367,4102,2051,6154,3077,9232,4616,2308,1154,577,1732,866,433,1300,650,325,976,488,244,122,61,184,92,46,23,70,35,106,53,160,80,40,20,10,5,16,8,4,2,1\n"
     ]
    }
   ],
   "source": [
    "print(\",\".join(map(str, hailstone_sequence(27))))"
   ]
  },
  {
   "cell_type": "markdown",
   "metadata": {},
   "source": [
    "### Подзадание B"
   ]
  },
  {
   "cell_type": "code",
   "execution_count": 15,
   "metadata": {},
   "outputs": [
    {
     "name": "stdout",
     "output_type": "stream",
     "text": [
      "2.2411346435546875e-05\n"
     ]
    }
   ],
   "source": [
    "START_FROM = 100000000000000000000000000\n",
    "LIMIT = 10\n",
    "\n",
    "def timer_gen_decorator(func):\n",
    "    def wrapper(*args, **kwargs):\n",
    "        start = time.time()\n",
    "        gen = func(*args, **kwargs)\n",
    "        try:\n",
    "            for _ in range(LIMIT):\n",
    "                next(gen)\n",
    "        except StopIteration:\n",
    "            pass  # silently ignore iteration stop\n",
    "\n",
    "        end = time.time()\n",
    "\n",
    "        return end - start\n",
    "    \n",
    "    return wrapper\n",
    "\n",
    "\n",
    "timed_hailstone_sequence = timer_gen_decorator(hailstone_sequence)\n",
    "\n",
    "print(timed_hailstone_sequence(START_FROM))\n",
    "\n"
   ]
  },
  {
   "cell_type": "markdown",
   "metadata": {},
   "source": [
    "#### Проверка гипотезы Коллатца"
   ]
  },
  {
   "cell_type": "code",
   "execution_count": 17,
   "metadata": {},
   "outputs": [],
   "source": [
    "ITERATIONS_HARD_LIMIT = 10000000 # what are max iterations. \"math.inf\" for infinite iterations\n",
    "\n",
    "for i in range(0, 101, 1):\n",
    "    gen = hailstone_sequence(i)\n",
    "    try:\n",
    "        for _ in range(ITERATIONS_HARD_LIMIT):\n",
    "            next(gen)\n",
    "        else:\n",
    "            assert False, f\"Hailstone sequence got to limit on number {i}\"\n",
    "    except StopIteration:\n",
    "        pass"
   ]
  },
  {
   "cell_type": "markdown",
   "metadata": {},
   "source": [
    "# Задание 3.1\n",
    "\n",
    "Примечание: копия этого кода находится в директории pr2_data под названием pr2_3_1.py"
   ]
  },
  {
   "cell_type": "code",
   "execution_count": 18,
   "metadata": {},
   "outputs": [
    {
     "name": "stdout",
     "output_type": "stream",
     "text": [
      "Аргумент не является целым положительным числом\n"
     ]
    },
    {
     "ename": "ValueError",
     "evalue": "invalid literal for int() with base 10: '--f=/home/olegrakov/.local/share/jupyter/runtime/kernel-v38b2bc01fb8576bee1bc191868e4f13288755f0aa.json'",
     "output_type": "error",
     "traceback": [
      "\u001b[0;31m---------------------------------------------------------------------------\u001b[0m",
      "\u001b[0;31mValueError\u001b[0m                                Traceback (most recent call last)",
      "Cell \u001b[0;32mIn[18], line 39\u001b[0m\n\u001b[1;32m     34\u001b[0m         exit(\u001b[38;5;241m1\u001b[39m)\n\u001b[1;32m     36\u001b[0m     \u001b[38;5;28;01mreturn\u001b[39;00m \u001b[38;5;28mint\u001b[39m(arg)\n\u001b[0;32m---> 39\u001b[0m num \u001b[38;5;241m=\u001b[39m \u001b[43mget_argv_number\u001b[49m\u001b[43m(\u001b[49m\u001b[43m)\u001b[49m\n\u001b[1;32m     41\u001b[0m \u001b[38;5;28mprint\u001b[39m(\u001b[38;5;124mf\u001b[39m\u001b[38;5;124m\"\u001b[39m\u001b[38;5;124mПоследовательность чисел-градин для числа \u001b[39m\u001b[38;5;132;01m{\u001b[39;00mnum\u001b[38;5;132;01m}\u001b[39;00m\u001b[38;5;124m:\u001b[39m\u001b[38;5;124m\"\u001b[39m)\n\u001b[1;32m     43\u001b[0m gen \u001b[38;5;241m=\u001b[39m hailstone_sequence(num)\n",
      "Cell \u001b[0;32mIn[18], line 32\u001b[0m, in \u001b[0;36mget_argv_number\u001b[0;34m()\u001b[0m\n\u001b[1;32m     29\u001b[0m     \u001b[38;5;28mprint\u001b[39m(\u001b[38;5;124m\"\u001b[39m\u001b[38;5;124mАргумент не является целым положительным числом\u001b[39m\u001b[38;5;124m\"\u001b[39m)\n\u001b[1;32m     30\u001b[0m     exit(\u001b[38;5;241m1\u001b[39m)\n\u001b[0;32m---> 32\u001b[0m \u001b[38;5;28;01mif\u001b[39;00m \u001b[38;5;28;43mint\u001b[39;49m\u001b[43m(\u001b[49m\u001b[43marg\u001b[49m\u001b[43m)\u001b[49m \u001b[38;5;241m<\u001b[39m\u001b[38;5;241m=\u001b[39m \u001b[38;5;241m1\u001b[39m:\n\u001b[1;32m     33\u001b[0m     \u001b[38;5;28mprint\u001b[39m(\u001b[38;5;124m\"\u001b[39m\u001b[38;5;124mЧисло не может быть меньше или равняться 1\u001b[39m\u001b[38;5;124m\"\u001b[39m)\n\u001b[1;32m     34\u001b[0m     exit(\u001b[38;5;241m1\u001b[39m)\n",
      "\u001b[0;31mValueError\u001b[0m: invalid literal for int() with base 10: '--f=/home/olegrakov/.local/share/jupyter/runtime/kernel-v38b2bc01fb8576bee1bc191868e4f13288755f0aa.json'"
     ]
    }
   ],
   "source": [
    "import sys\n",
    "\n",
    "from typing import Generator\n",
    "\n",
    "\n",
    "def hailstone_sequence(n: int = 1) -> Generator[int, None, 1]:\n",
    "    while n > 1:\n",
    "        if n % 2 == 0:\n",
    "            n = n // 2\n",
    "        else:\n",
    "            n = 3 * n + 1\n",
    "\n",
    "        yield n\n",
    "    return n\n",
    "\n",
    "\n",
    "def get_argv_number() -> int:\n",
    "    if len(sys.argv) < 2:\n",
    "        print(\"Аргумент отстуствует\")\n",
    "        exit(1)\n",
    "\n",
    "    if len(sys.argv) > 2:\n",
    "        print(\"Слишком много аргрументов\")\n",
    "        exit(1)\n",
    "\n",
    "    arg = sys.argv[1]\n",
    "\n",
    "    if not arg.isdecimal():\n",
    "        print(\"Аргумент не является целым положительным числом\")\n",
    "        exit(1)\n",
    "\n",
    "    if int(arg) <= 1:\n",
    "        print(\"Число не может быть меньше или равняться 1\")\n",
    "        exit(1)\n",
    "\n",
    "    return int(arg)\n",
    "\n",
    "\n",
    "num = get_argv_number()\n",
    "\n",
    "print(f\"Последовательность чисел-градин для числа {num}:\")\n",
    "\n",
    "gen = hailstone_sequence(num)\n",
    "\n",
    "print(next(gen), end=\"\")\n",
    "\n",
    "try:\n",
    "    while number := next(gen):\n",
    "        print(f\", {number}\", end=\"\")\n",
    "except StopIteration:\n",
    "    pass\n",
    "\n",
    "print()\n"
   ]
  },
  {
   "cell_type": "markdown",
   "metadata": {},
   "source": [
    "# Задание 3.2\n",
    "\n",
    "Примечание: копия этого кода находится в директории pr2_data под названием pr2_3_2.py"
   ]
  },
  {
   "cell_type": "code",
   "execution_count": 19,
   "metadata": {},
   "outputs": [
    {
     "name": "stdout",
     "output_type": "stream",
     "text": [
      "Отстуствует один из аргументов\n"
     ]
    },
    {
     "ename": "IndexError",
     "evalue": "list index out of range",
     "output_type": "error",
     "traceback": [
      "\u001b[0;31m---------------------------------------------------------------------------\u001b[0m",
      "\u001b[0;31mIndexError\u001b[0m                                Traceback (most recent call last)",
      "Cell \u001b[0;32mIn[19], line 75\u001b[0m\n\u001b[1;32m     65\u001b[0m \u001b[38;5;28;01mdef\u001b[39;00m \u001b[38;5;21mdistance\u001b[39m(loc1: Coordinates, loc2: Coordinates, R: \u001b[38;5;28mfloat\u001b[39m \u001b[38;5;241m=\u001b[39m \u001b[38;5;241m6378.1\u001b[39m):\n\u001b[1;32m     66\u001b[0m     \u001b[38;5;28;01mreturn\u001b[39;00m \u001b[38;5;241m2\u001b[39m \u001b[38;5;241m*\u001b[39m R \u001b[38;5;241m*\u001b[39m math\u001b[38;5;241m.\u001b[39masin(\n\u001b[1;32m     67\u001b[0m         math\u001b[38;5;241m.\u001b[39msqrt(\n\u001b[1;32m     68\u001b[0m             haversin(loc2[\u001b[38;5;124m\"\u001b[39m\u001b[38;5;124mlatitude\u001b[39m\u001b[38;5;124m\"\u001b[39m] \u001b[38;5;241m-\u001b[39m loc1[\u001b[38;5;124m\"\u001b[39m\u001b[38;5;124mlatitude\u001b[39m\u001b[38;5;124m\"\u001b[39m]) \u001b[38;5;241m+\u001b[39m (\n\u001b[0;32m   (...)\u001b[0m\n\u001b[1;32m     71\u001b[0m         )\n\u001b[1;32m     72\u001b[0m     )\n\u001b[0;32m---> 75\u001b[0m data \u001b[38;5;241m=\u001b[39m \u001b[43mget_argv_data\u001b[49m\u001b[43m(\u001b[49m\u001b[43m)\u001b[49m\n\u001b[1;32m     76\u001b[0m \u001b[38;5;28mprint\u001b[39m(\u001b[38;5;124mf\u001b[39m\u001b[38;5;124m\"\u001b[39m\u001b[38;5;132;01m{\u001b[39;00m\u001b[38;5;28mint\u001b[39m(\u001b[38;5;28mround\u001b[39m(distance(\u001b[38;5;241m*\u001b[39mdata),\u001b[38;5;250m \u001b[39m\u001b[38;5;241m0\u001b[39m))\u001b[38;5;132;01m}\u001b[39;00m\u001b[38;5;124m km\u001b[39m\u001b[38;5;124m\"\u001b[39m)\n",
      "Cell \u001b[0;32mIn[19], line 25\u001b[0m, in \u001b[0;36mget_argv_data\u001b[0;34m()\u001b[0m\n\u001b[1;32m     22\u001b[0m     exit(\u001b[38;5;241m1\u001b[39m)\n\u001b[1;32m     24\u001b[0m arg_1_splited \u001b[38;5;241m=\u001b[39m sys\u001b[38;5;241m.\u001b[39margv[\u001b[38;5;241m1\u001b[39m]\u001b[38;5;241m.\u001b[39msplit(\u001b[38;5;124m\"\u001b[39m\u001b[38;5;124m,\u001b[39m\u001b[38;5;124m\"\u001b[39m)\n\u001b[0;32m---> 25\u001b[0m arg_2_splited \u001b[38;5;241m=\u001b[39m \u001b[43msys\u001b[49m\u001b[38;5;241;43m.\u001b[39;49m\u001b[43margv\u001b[49m\u001b[43m[\u001b[49m\u001b[38;5;241;43m2\u001b[39;49m\u001b[43m]\u001b[49m\u001b[38;5;241m.\u001b[39msplit(\u001b[38;5;124m\"\u001b[39m\u001b[38;5;124m,\u001b[39m\u001b[38;5;124m\"\u001b[39m)\n\u001b[1;32m     27\u001b[0m \u001b[38;5;28;01mif\u001b[39;00m \u001b[38;5;28mlen\u001b[39m(arg_1_splited) \u001b[38;5;241m<\u001b[39m \u001b[38;5;241m2\u001b[39m:\n\u001b[1;32m     28\u001b[0m     \u001b[38;5;28mprint\u001b[39m(\u001b[38;5;124m\"\u001b[39m\u001b[38;5;124mВ первом аргументе недостаточно или отсутвуют числа с точкой\u001b[39m\u001b[38;5;124m\"\u001b[39m)\n",
      "\u001b[0;31mIndexError\u001b[0m: list index out of range"
     ]
    }
   ],
   "source": [
    "import sys\n",
    "import math\n",
    "from typing import TypedDict\n",
    "\n",
    "\n",
    "class Coordinates(TypedDict):\n",
    "    latitude: float\n",
    "    longitude: float\n",
    "\n",
    "\n",
    "def get_argv_data() -> tuple[Coordinates, Coordinates]:\n",
    "    if len(sys.argv) < 2:\n",
    "        print(\"Аргументы отстуствуют\")\n",
    "        exit(1)\n",
    "\n",
    "    if len(sys.argv) < 3:\n",
    "        print(\"Отстуствует один из аргументов\")\n",
    "        exit(1)\n",
    "\n",
    "    if len(sys.argv) > 3:\n",
    "        print(\"Слишком много аргументов\")\n",
    "        exit(1)\n",
    "\n",
    "    arg_1_splited = sys.argv[1].split(\",\")\n",
    "    arg_2_splited = sys.argv[2].split(\",\")\n",
    "\n",
    "    if len(arg_1_splited) < 2:\n",
    "        print(\"В первом аргументе недостаточно или отсутвуют числа с точкой\")\n",
    "        exit(1)\n",
    "\n",
    "    if len(arg_1_splited) > 2:\n",
    "        print(\"В первом аргументе слишком много чисел с точкой\")\n",
    "        exit(1)\n",
    "\n",
    "    if len(arg_2_splited) < 2:\n",
    "        print(\"В втором аргументе недостаточно или отсутвуют числа с точкой\")\n",
    "        exit(1)\n",
    "\n",
    "    if len(arg_2_splited) > 2:\n",
    "        print(\"В втором аргументе слишком много чисел с точкой\")\n",
    "        exit(1)\n",
    "\n",
    "    try:\n",
    "        data: tuple[Coordinates, Coordinates] = (\n",
    "            {\n",
    "                \"latitude\": math.radians(float(arg_1_splited[0])),\n",
    "                \"longitude\": math.radians(float(arg_1_splited[1])),\n",
    "            },\n",
    "            {\n",
    "                \"latitude\": math.radians(float(arg_2_splited[0])),\n",
    "                \"longitude\": math.radians(float(arg_2_splited[1])),\n",
    "            }\n",
    "        )\n",
    "    except ValueError:\n",
    "        print(\"В одном из аргументов присутсвует не число\")\n",
    "        exit(1)\n",
    "\n",
    "    return data\n",
    "\n",
    "\n",
    "def haversin(x: float | int):\n",
    "    return math.sin(x / 2) ** 2\n",
    "\n",
    "\n",
    "def distance(loc1: Coordinates, loc2: Coordinates, R: float = 6378.1):\n",
    "    return 2 * R * math.asin(\n",
    "        math.sqrt(\n",
    "            haversin(loc2[\"latitude\"] - loc1[\"latitude\"]) + (\n",
    "                math.cos(loc1[\"latitude\"]) * math.cos(loc2[\"latitude\"]) * haversin(loc2[\"longitude\"] - loc1[\"longitude\"])\n",
    "            )\n",
    "        )\n",
    "    )\n",
    "\n",
    "\n",
    "data = get_argv_data()\n",
    "print(f\"{int(round(distance(*data), 0))} km\")\n"
   ]
  },
  {
   "cell_type": "markdown",
   "metadata": {},
   "source": [
    "# Задание 3.3\n",
    "\n",
    "Примечание: данное задание мне не удалось проверить, так как imagemagic выдаёт ошибку при попытке обработать файлы"
   ]
  },
  {
   "cell_type": "code",
   "execution_count": 20,
   "metadata": {},
   "outputs": [],
   "source": [
    "DEFAULT_PARAMS = {\n",
    "    \"big_x\": 250,\n",
    "    \"big_y\": 250,\n",
    "    \"big_r\": 200,\n",
    "\n",
    "    \"small_x\": 430,\n",
    "    \"small_y\": 250,\n",
    "    \"small_r\": 20,\n",
    "}\n",
    "\n",
    "SAVE_PATH = Path(\"./test\")\n",
    "TOTAL_FRAMES = 20\n",
    "\n",
    "\n",
    "TEMPLATE = \"\"\"\n",
    "<?xml version=\"1.0\" encoding=\"utf -8\"?>\n",
    " <svg xmlns=\"http://www.w3.org/2000/svg\"\n",
    " xmlns:xlink=\"http://www.w3.org/1999/xlink\"\n",
    " width=\"500\" height=\"500\" style=\"background: #ffffff\">\n",
    "<circle cx=\"{big_x}\" cy=\"{big_y}\" r=\"{big_r}\" style=\"stroke: black; stroke -width: 2px; fill:\n",
    "none;\"/>\n",
    "<circle cx=\"{small_x}\" cy=\"{small_y}\" r=\"{small_y}\" style=\"stroke: red; fill: red;\"/>\n",
    "</svg>\n",
    "\"\"\"\n",
    "\n",
    "\n",
    "big_d = DEFAULT_PARAMS[\"big_r\"] * 2\n",
    "\n",
    "SAVE_PATH.mkdir(exist_ok=True, parents=True)\n",
    "\n",
    "for frame in range(TOTAL_FRAMES + 1):\n",
    "    small_x_perc = frame / TOTAL_FRAMES\n",
    "    small_y_perc = frame / TOTAL_FRAMES\n",
    "\n",
    "    small_x = big_d * small_x_perc - DEFAULT_PARAMS[\"big_r\"] - (DEFAULT_PARAMS[\"small_r\"] * (-1 if small_x_perc <= 0.5 else 1))\n",
    "    small_y = big_d * small_y_perc - DEFAULT_PARAMS[\"big_r\"] - (DEFAULT_PARAMS[\"small_r\"] * (-1 if small_x_perc <= 0.5 else 1))\n",
    "\n",
    "    new_values = DEFAULT_PARAMS.copy()\n",
    "\n",
    "    new_values.update({\n",
    "        \"small_x\": small_x,\n",
    "        \"small_y\": small_y,\n",
    "    })\n",
    "\n",
    "    with open(SAVE_PATH / f\"{frame}.svg\", \"w\") as f:\n",
    "        f.write(TEMPLATE.format(**new_values))\n",
    "\n"
   ]
  },
  {
   "cell_type": "markdown",
   "metadata": {},
   "source": [
    "# Задание 3.4\n",
    "\n",
    "Примечание: копия этого кода находится в директории pr2_data под названием pr2_3_4.py"
   ]
  },
  {
   "cell_type": "code",
   "execution_count": null,
   "metadata": {},
   "outputs": [],
   "source": [
    "import os\n",
    "import sys\n",
    "import re\n",
    "from pathlib import Path\n",
    "\n",
    "MONTHS = ['jan', 'feb', 'mar', 'apr', 'may', 'jun', 'jul', 'aug', 'sep', 'oct', 'nov', 'dec']\n",
    "\n",
    "\n",
    "def get_argv_dir() -> Path:\n",
    "    if len(sys.argv) < 2:\n",
    "        print(\"Аргумент отстуствует\")\n",
    "        print(\"В качестве аргумента должен быть путь до папки с файлами. К примеру ./testdirs/testdir\")\n",
    "        exit(1)\n",
    "\n",
    "    if len(sys.argv) > 2:\n",
    "        print(\"Слишком много аргрументов\")\n",
    "        exit(1)\n",
    "\n",
    "    path = Path(sys.argv[1])\n",
    "\n",
    "    if not path.exists():\n",
    "        print(\"Данной директории не существует\")\n",
    "\n",
    "    if path.is_file():\n",
    "        print(\"Данный путь это файл\")\n",
    "        exit(1)\n",
    "\n",
    "    if not path.is_dir():\n",
    "        print(\"Данный путь не директория\")\n",
    "        exit()\n",
    "\n",
    "    return path\n",
    "\n",
    "\n",
    "dir_name = get_argv_dir()\n",
    "\n",
    "for filename in os.listdir(dir_name):\n",
    "    if not re.match(f\"data-\\\\d\\\\d-(?:{\"|\".join(MONTHS)})-\\\\d\\\\d\", filename.lower()):\n",
    "        print(f\"Файл \\\"{filename}\\\" не соответвует формату \\\"data-DD-MMM-YY.txt\\\". Он будет проигнорирован\")\n",
    "        continue\n",
    "\n",
    "    d, month, y = int(filename[5:7]), filename[8:11], int(filename[12:14])\n",
    "    m = MONTHS.index(month.lower()) + 1\n",
    "    newname = 'data-20{:02d}-{:02d}-{:02d}.txt'.format(y, m, d)\n",
    "    newpath = dir_name / newname\n",
    "    oldpath = dir_name / filename\n",
    "    print(oldpath, '->', newpath)\n",
    "    os.rename(oldpath, newpath)\n"
   ]
  }
 ],
 "metadata": {
  "kernelspec": {
   "display_name": ".venv",
   "language": "python",
   "name": "python3"
  },
  "language_info": {
   "codemirror_mode": {
    "name": "ipython",
    "version": 3
   },
   "file_extension": ".py",
   "mimetype": "text/x-python",
   "name": "python",
   "nbconvert_exporter": "python",
   "pygments_lexer": "ipython3",
   "version": "3.12.7"
  }
 },
 "nbformat": 4,
 "nbformat_minor": 2
}
