{
 "cells": [
  {
   "cell_type": "code",
   "execution_count": 2,
   "metadata": {},
   "outputs": [],
   "source": [
    "import time\n",
    "import math\n",
    "from pathlib import Path\n",
    "from typing import Generator"
   ]
  },
  {
   "cell_type": "markdown",
   "metadata": {},
   "source": [
    "# Задание 3.0"
   ]
  },
  {
   "cell_type": "markdown",
   "metadata": {},
   "source": [
    "### Определение функции для генерации чисел-градин"
   ]
  },
  {
   "cell_type": "code",
   "execution_count": 60,
   "metadata": {},
   "outputs": [],
   "source": [
    "def hailstone_sequence(n: int = 1) -> Generator[int, None, 1]:\n",
    "    while n > 1:\n",
    "        if n % 2 == 0:\n",
    "            n = n // 2\n",
    "        else:\n",
    "            n = 3 * n + 1\n",
    "\n",
    "        yield n\n",
    "    return n"
   ]
  },
  {
   "cell_type": "markdown",
   "metadata": {},
   "source": [
    "### Подзадание A"
   ]
  },
  {
   "cell_type": "code",
   "execution_count": null,
   "metadata": {},
   "outputs": [],
   "source": [
    "print(\",\".join(list(hailstone_sequence(27))))"
   ]
  },
  {
   "cell_type": "markdown",
   "metadata": {},
   "source": [
    "### Подзадание B"
   ]
  },
  {
   "cell_type": "code",
   "execution_count": 61,
   "metadata": {},
   "outputs": [
    {
     "name": "stdout",
     "output_type": "stream",
     "text": [
      "1.2874603271484375e-05\n"
     ]
    }
   ],
   "source": [
    "START_FROM = 100000000000000000000000000\n",
    "LIMIT = 10\n",
    "\n",
    "def timer_gen_decorator(func):\n",
    "    def wrapper(*args, **kwargs):\n",
    "        start = time.time()\n",
    "        gen = func(*args, **kwargs)\n",
    "        try:\n",
    "            for _ in range(LIMIT):\n",
    "                next(gen)\n",
    "        except StopIteration:\n",
    "            pass  # silently ignore iteration stop\n",
    "\n",
    "        end = time.time()\n",
    "\n",
    "        return end - start\n",
    "    \n",
    "    return wrapper\n",
    "\n",
    "\n",
    "timed_hailstone_sequence = timer_gen_decorator(hailstone_sequence)\n",
    "\n",
    "print(timed_hailstone_sequence(START_FROM))\n",
    "\n"
   ]
  },
  {
   "cell_type": "markdown",
   "metadata": {},
   "source": [
    "#### Проверка гипотезы Коллатца"
   ]
  },
  {
   "cell_type": "code",
   "execution_count": 70,
   "metadata": {},
   "outputs": [],
   "source": [
    "ITERATIONS_HARD_LIMIT = 10000000 # what are max iterations. \"math.inf\" for infinite iterations\n",
    "\n",
    "for i in range(0, 101, 1):\n",
    "    gen = hailstone_sequence(i)\n",
    "    try:\n",
    "        for _ in range(ITERATIONS_HARD_LIMIT):\n",
    "            next(gen)\n",
    "        else:\n",
    "            assert False, f\"Hailstone sequence got to limit on number {i}\"\n",
    "    except StopIteration:\n",
    "        pass"
   ]
  },
  {
   "cell_type": "markdown",
   "metadata": {},
   "source": [
    "# Задание 3.1\n",
    "\n",
    "Примечание: копия этого кода находится в директории pr2_data под названием pr2_3_1.py"
   ]
  },
  {
   "cell_type": "code",
   "execution_count": null,
   "metadata": {},
   "outputs": [],
   "source": [
    "import sys\n",
    "\n",
    "from typing import Generator\n",
    "\n",
    "\n",
    "def hailstone_sequence(n: int = 1) -> Generator[int, None, 1]:\n",
    "    while n > 1:\n",
    "        if n % 2 == 0:\n",
    "            n = n // 2\n",
    "        else:\n",
    "            n = 3 * n + 1\n",
    "\n",
    "        yield n\n",
    "    return n\n",
    "\n",
    "\n",
    "def get_argv_number() -> int:\n",
    "    if len(sys.argv) < 2:\n",
    "        print(\"Аргумент отстуствует\")\n",
    "        exit(1)\n",
    "\n",
    "    if len(sys.argv) > 2:\n",
    "        print(\"Слишком много аргрументов\")\n",
    "        exit(1)\n",
    "\n",
    "    arg = sys.argv[1]\n",
    "\n",
    "    if not arg.isdecimal():\n",
    "        print(\"Аргумент не является целым положительным числом\")\n",
    "        exit(1)\n",
    "\n",
    "    if int(arg) <= 1:\n",
    "        print(\"Число не может быть меньше или равняться 1\")\n",
    "        exit(1)\n",
    "\n",
    "    return int(arg)\n",
    "\n",
    "\n",
    "num = get_argv_number()\n",
    "\n",
    "print(f\"Последовательность чисел-градин для числа {num}:\")\n",
    "\n",
    "gen = hailstone_sequence(num)\n",
    "\n",
    "print(next(gen), end=\"\")\n",
    "\n",
    "try:\n",
    "    while number := next(gen):\n",
    "        print(f\", {number}\", end=\"\")\n",
    "except StopIteration:\n",
    "    pass\n",
    "\n",
    "print()\n"
   ]
  },
  {
   "cell_type": "markdown",
   "metadata": {},
   "source": [
    "# Задание 3.2\n",
    "\n",
    "Примечание: копия этого кода находится в директории pr2_data под названием pr2_3_2.py"
   ]
  },
  {
   "cell_type": "code",
   "execution_count": null,
   "metadata": {},
   "outputs": [],
   "source": [
    "import sys\n",
    "import math\n",
    "from typing import TypedDict\n",
    "\n",
    "\n",
    "class Coordinates(TypedDict):\n",
    "    latitude: float\n",
    "    longitude: float\n",
    "\n",
    "\n",
    "def get_argv_data() -> tuple[Coordinates, Coordinates]:\n",
    "    if len(sys.argv) < 2:\n",
    "        print(\"Аргументы отстуствуют\")\n",
    "        exit(1)\n",
    "\n",
    "    if len(sys.argv) < 3:\n",
    "        print(\"Отстуствует один из аргументов\")\n",
    "        exit(1)\n",
    "\n",
    "    if len(sys.argv) > 3:\n",
    "        print(\"Слишком много аргументов\")\n",
    "        exit(1)\n",
    "\n",
    "    arg_1_splited = sys.argv[1].split(\",\")\n",
    "    arg_2_splited = sys.argv[2].split(\",\")\n",
    "\n",
    "    if len(arg_1_splited) < 2:\n",
    "        print(\"В первом аргументе недостаточно или отсутвуют числа с точкой\")\n",
    "        exit(1)\n",
    "\n",
    "    if len(arg_1_splited) > 2:\n",
    "        print(\"В первом аргументе слишком много чисел с точкой\")\n",
    "        exit(1)\n",
    "\n",
    "    if len(arg_2_splited) < 2:\n",
    "        print(\"В втором аргументе недостаточно или отсутвуют числа с точкой\")\n",
    "        exit(1)\n",
    "\n",
    "    if len(arg_2_splited) > 2:\n",
    "        print(\"В втором аргументе слишком много чисел с точкой\")\n",
    "        exit(1)\n",
    "\n",
    "    try:\n",
    "        data: tuple[Coordinates, Coordinates] = (\n",
    "            {\n",
    "                \"latitude\": math.radians(float(arg_1_splited[0])),\n",
    "                \"longitude\": math.radians(float(arg_1_splited[1])),\n",
    "            },\n",
    "            {\n",
    "                \"latitude\": math.radians(float(arg_2_splited[0])),\n",
    "                \"longitude\": math.radians(float(arg_2_splited[1])),\n",
    "            }\n",
    "        )\n",
    "    except ValueError:\n",
    "        print(\"В одном из аргументов присутсвует не число\")\n",
    "        exit(1)\n",
    "\n",
    "    return data\n",
    "\n",
    "\n",
    "def haversin(x: float | int):\n",
    "    return math.sin(x / 2) ** 2\n",
    "\n",
    "\n",
    "def distance(loc1: Coordinates, loc2: Coordinates, R: float = 6378.1):\n",
    "    return 2 * R * math.asin(\n",
    "        math.sqrt(\n",
    "            haversin(loc2[\"latitude\"] - loc1[\"latitude\"]) + (\n",
    "                math.cos(loc1[\"latitude\"]) * math.cos(loc2[\"latitude\"]) * haversin(loc2[\"longitude\"] - loc1[\"longitude\"])\n",
    "            )\n",
    "        )\n",
    "    )\n",
    "\n",
    "\n",
    "data = get_argv_data()\n",
    "print(f\"{int(round(distance(*data), 0))} km\")\n"
   ]
  },
  {
   "cell_type": "markdown",
   "metadata": {},
   "source": [
    "# Задание 3.3\n",
    "\n",
    "Примечание: данное задание мне не удалось проверить, так как imagemagic выдаёт ошибку при попытке "
   ]
  },
  {
   "cell_type": "code",
   "execution_count": 34,
   "metadata": {},
   "outputs": [],
   "source": [
    "DEFAULT_PARAMS = {\n",
    "    \"big_x\": 250,\n",
    "    \"big_y\": 250,\n",
    "    \"big_r\": 200,\n",
    "\n",
    "    \"small_x\": 430,\n",
    "    \"small_y\": 250,\n",
    "    \"small_r\": 20,\n",
    "}\n",
    "\n",
    "SAVE_PATH = Path(\"./test\")\n",
    "TOTAL_FRAMES = 20\n",
    "\n",
    "\n",
    "TEMPLATE = \"\"\"\n",
    "<?xml version=\"1.0\" encoding=\"utf -8\"?>\n",
    " <svg xmlns=\"http://www.w3.org/2000/svg\"\n",
    " xmlns:xlink=\"http://www.w3.org/1999/xlink\"\n",
    " width=\"500\" height=\"500\" style=\"background: #ffffff\">\n",
    "<circle cx=\"{big_x}\" cy=\"{big_y}\" r=\"{big_r}\" style=\"stroke: black; stroke -width: 2px; fill:\n",
    "none;\"/>\n",
    "<circle cx=\"{small_x}\" cy=\"{small_y}\" r=\"{small_y}\" style=\"stroke: red; fill: red;\"/>\n",
    "</svg>\n",
    "\"\"\"\n",
    "\n",
    "\n",
    "big_d = DEFAULT_PARAMS[\"big_r\"] * 2\n",
    "\n",
    "SAVE_PATH.mkdir(exist_ok=True, parents=True)\n",
    "\n",
    "for frame in range(TOTAL_FRAMES + 1):\n",
    "    small_x_perc = frame / TOTAL_FRAMES\n",
    "    small_y_perc = frame / TOTAL_FRAMES\n",
    "\n",
    "    small_x = big_d * small_x_perc - DEFAULT_PARAMS[\"big_r\"] - (DEFAULT_PARAMS[\"small_r\"] * (-1 if small_x_perc <= 0.5 else 1))\n",
    "    small_y = big_d * small_y_perc - DEFAULT_PARAMS[\"big_r\"] - (DEFAULT_PARAMS[\"small_r\"] * (-1 if small_x_perc <= 0.5 else 1))\n",
    "\n",
    "    new_values = DEFAULT_PARAMS.copy()\n",
    "\n",
    "    new_values.update({\n",
    "        \"small_x\": small_x,\n",
    "        \"small_y\": small_y,\n",
    "    })\n",
    "\n",
    "    with open(SAVE_PATH / f\"{frame}.svg\", \"w\") as f:\n",
    "        f.write(TEMPLATE.format(**new_values))\n",
    "\n"
   ]
  },
  {
   "cell_type": "markdown",
   "metadata": {},
   "source": [
    "# Задание 3.4\n",
    "\n",
    "Примечание: копия этого кода находится в директории pr2_data под названием pr2_3_4.py"
   ]
  },
  {
   "cell_type": "code",
   "execution_count": null,
   "metadata": {},
   "outputs": [],
   "source": [
    "import os\n",
    "import sys\n",
    "import re\n",
    "from pathlib import Path\n",
    "\n",
    "MONTHS = ['jan', 'feb', 'mar', 'apr', 'may', 'jun', 'jul', 'aug', 'sep', 'oct', 'nov', 'dec']\n",
    "\n",
    "\n",
    "def get_argv_dir() -> Path:\n",
    "    if len(sys.argv) < 2:\n",
    "        print(\"Аргумент отстуствует\")\n",
    "        print(\"В качестве аргумента должен быть путь до папки с файлами. К примеру ./testdirs/testdir\")\n",
    "        exit(1)\n",
    "\n",
    "    if len(sys.argv) > 2:\n",
    "        print(\"Слишком много аргрументов\")\n",
    "        exit(1)\n",
    "\n",
    "    path = Path(sys.argv[1])\n",
    "\n",
    "    if not path.exists():\n",
    "        print(\"Данной директории не существует\")\n",
    "\n",
    "    if path.is_file():\n",
    "        print(\"Данный путь это файл\")\n",
    "        exit(1)\n",
    "\n",
    "    if not path.is_dir():\n",
    "        print(\"Данный путь не директория\")\n",
    "        exit()\n",
    "\n",
    "    return path\n",
    "\n",
    "\n",
    "dir_name = get_argv_dir()\n",
    "\n",
    "for filename in os.listdir(dir_name):\n",
    "    if not re.match(f\"data-\\\\d\\\\d-(?:{\"|\".join(MONTHS)})-\\\\d\\\\d\", filename.lower()):\n",
    "        print(f\"Файл \\\"{filename}\\\" не соответвует формату \\\"data-DD-MMM-YY.txt\\\". Он будет проигнорирован\")\n",
    "        continue\n",
    "\n",
    "    d, month, y = int(filename[5:7]), filename[8:11], int(filename[12:14])\n",
    "    m = MONTHS.index(month.lower()) + 1\n",
    "    newname = 'data-20{:02d}-{:02d}-{:02d}.txt'.format(y, m, d)\n",
    "    newpath = dir_name / newname\n",
    "    oldpath = dir_name / filename\n",
    "    print(oldpath, '->', newpath)\n",
    "    os.rename(oldpath, newpath)\n"
   ]
  }
 ],
 "metadata": {
  "kernelspec": {
   "display_name": ".venv",
   "language": "python",
   "name": "python3"
  },
  "language_info": {
   "codemirror_mode": {
    "name": "ipython",
    "version": 3
   },
   "file_extension": ".py",
   "mimetype": "text/x-python",
   "name": "python",
   "nbconvert_exporter": "python",
   "pygments_lexer": "ipython3",
   "version": "3.12.7"
  }
 },
 "nbformat": 4,
 "nbformat_minor": 2
}
